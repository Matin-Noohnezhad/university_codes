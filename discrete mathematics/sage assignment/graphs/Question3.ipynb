{
 "cells": [
  {
   "cell_type": "code",
   "execution_count": 0,
   "metadata": {
    "collapsed": false
   },
   "outputs": [
   ],
   "source": [
    "status = 0\n",
    "lengthOfGrayCode = 4\n",
    "l1 = [\"0\" , \"1\"]\n",
    "l2 = []\n",
    "for i in range(lengthOfGrayCode-1):\n",
    "    if(status == 0):\n",
    "        Length = len(l1)\n",
    "        l2 =[]\n",
    "        l1.reverse()\n",
    "        for j in range(Length):\n",
    "            l2.append(\"0\"+ l1[j])\n",
    "        l1.reverse()\n",
    "        for k in range(Length):\n",
    "            l2.append(\"1\"+l1[k])\n",
    "        status = 1\n",
    "    elif(status ==1):\n",
    "        Length = len(l2)\n",
    "        l1 =[]\n",
    "        l2.reverse()\n",
    "        for j in range(Length):\n",
    "            l1.append(\"0\"+ l2[j])\n",
    "        l2.reverse()\n",
    "        for k in range(Length):\n",
    "            l1.append(\"1\"+l2[k])\n",
    "        status = 0\n",
    "if(status==0):\n",
    "    for i in range(len(l1)):\n",
    "        print(l1[i])\n",
    "elif(status==1):\n",
    "    for j in range(len(l2)):\n",
    "        print(l2[j])"
   ]
  }
 ],
 "metadata": {
  "kernelspec": {
   "display_name": "SageMath 8.1",
   "name": "sage-8.1"
  },
  "language_info": {
   "codemirror_mode": {
    "name": "ipython",
    "version": 2
   },
   "file_extension": ".py",
   "mimetype": "text/x-python",
   "name": "python",
   "nbconvert_exporter": "python",
   "pygments_lexer": "ipython2",
   "version": "2.7.14"
  }
 },
 "nbformat": 4,
 "nbformat_minor": 0
}