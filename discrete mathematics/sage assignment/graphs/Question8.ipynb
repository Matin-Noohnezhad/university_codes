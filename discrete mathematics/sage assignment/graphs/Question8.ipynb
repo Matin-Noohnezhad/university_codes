{
 "cells": [
  {
   "cell_type": "markdown",
   "metadata": {
    "collapsed": false
   },
   "source": [
    "<h1>Graphs:Computations and explorations - Question13</h1>\n",
    "<p>estimate the probability of the connectivity of graph with n vertices with n is not exceeding 10</p>"
   ]
  },
  {
   "cell_type": "code",
   "execution_count": 10,
   "metadata": {
    "collapsed": false
   },
   "outputs": [
    {
     "name": "stdout",
     "output_type": "stream",
     "text": [
      "for 1 vertices the probability of connected graph is: \n",
      "1.00000000000000\n",
      "for 2 vertices the probability of connected graph is: \n",
      "0.488000000000000\n",
      "for 3 vertices the probability of connected graph is: \n",
      "0.496000000000000\n",
      "for 4 vertices the probability of connected graph is: \n",
      "0.536000000000000\n",
      "for 5 vertices the probability of connected graph is: \n",
      "0.768000000000000\n",
      "for 6 vertices the probability of connected graph is: \n",
      "0.808000000000000\n",
      "for 7 vertices the probability of connected graph is: \n"
     ]
    },
    {
     "name": "stdout",
     "output_type": "stream",
     "text": [
      "0.904000000000000\n",
      "for 8 vertices the probability of connected graph is: \n",
      "0.968000000000000\n",
      "for 9 vertices the probability of connected graph is: \n",
      "0.968000000000000\n",
      "for 10 vertices the probability of connected graph is: \n",
      "0.992000000000000\n"
     ]
    }
   ],
   "source": [
    "theNumberOfCalculatedTimes = 125\n",
    "for i in range(10):\n",
    "    j = i+1\n",
    "    numberOfConnectedTimes = 0\n",
    "    for z in range(theNumberOfCalculatedTimes):\n",
    "        Edges = random_matrix(ZZ, j, j, x=0, y=2)\n",
    "        for x in range(j):\n",
    "            for y in range(j):\n",
    "                if(y>=x):\n",
    "                    Edges[y,x] = Edges[x,y]\n",
    "        A = Graph(Edges)\n",
    "        if(A.is_connected()):\n",
    "            numberOfConnectedTimes = numberOfConnectedTimes+1\n",
    "    print(\"for \" + str(j) + \" vertices the probability of connected graph is: \")\n",
    "    print(n(numberOfConnectedTimes/theNumberOfCalculatedTimes))"
   ]
  },
  {
   "cell_type": "code",
   "execution_count": 0,
   "metadata": {
    "collapsed": false
   },
   "outputs": [
   ],
   "source": [
   ]
  }
 ],
 "metadata": {
  "kernelspec": {
   "display_name": "SageMath 8.1",
   "name": "sage-8.1"
  },
  "language_info": {
   "codemirror_mode": {
    "name": "ipython",
    "version": 2
   },
   "file_extension": ".py",
   "mimetype": "text/x-python",
   "name": "python",
   "nbconvert_exporter": "python",
   "pygments_lexer": "ipython2",
   "version": "2.7.14"
  }
 },
 "nbformat": 4,
 "nbformat_minor": 0
}