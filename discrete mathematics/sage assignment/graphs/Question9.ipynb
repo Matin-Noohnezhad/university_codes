{
 "cells": [
  {
   "cell_type": "code",
   "execution_count": 1,
   "metadata": {
    "collapsed": false
   },
   "outputs": [
    {
     "ename": "SyntaxError",
     "evalue": "invalid syntax (<ipython-input-1-1364f5c0c5a0>, line 1)",
     "output_type": "error",
     "traceback": [
      "\u001b[0;36m  File \u001b[0;32m\"<ipython-input-1-1364f5c0c5a0>\"\u001b[0;36m, line \u001b[0;32m1\u001b[0m\n\u001b[0;31m    <h1>Graphs:Computations And explorations-Question Integer(14)</h1>\u001b[0m\n\u001b[0m    ^\u001b[0m\n\u001b[0;31mSyntaxError\u001b[0m\u001b[0;31m:\u001b[0m invalid syntax\n"
     ]
    }
   ],
   "source": [
    "<h1>Graphs:Computations And explorations-Question 14</h1>\n",
    "<p>we use a function which we find in internet.</p>"
   ]
  },
  {
   "cell_type": "code",
   "execution_count": 9,
   "metadata": {
    "collapsed": false
   },
   "outputs": [
    {
     "name": "stdout",
     "output_type": "stream",
     "text": [
      "81\n"
     ]
    }
   ],
   "source": [
    "#G = BipartiteGraph(graphs.CompleteBipartiteGraph(7,7))\n",
    "#print(G.number_of_crossings())\n",
    "firstNumber = 7\n",
    "secondNumber = 7\n",
    "def f(x,y):\n",
    "    return floor(n(x/2))*floor(n((x-1)/2))*floor(n(y/2))*floor(n((y-1)/2))\n",
    "print(f(firstNumber,secondNumber))\n"
   ]
  }
 ],
 "metadata": {
  "kernelspec": {
   "display_name": "SageMath 8.1",
   "name": "sage-8.1"
  },
  "language_info": {
   "codemirror_mode": {
    "name": "ipython",
    "version": 2
   },
   "file_extension": ".py",
   "mimetype": "text/x-python",
   "name": "python",
   "nbconvert_exporter": "python",
   "pygments_lexer": "ipython2",
   "version": "2.7.14"
  }
 },
 "nbformat": 4,
 "nbformat_minor": 0
}