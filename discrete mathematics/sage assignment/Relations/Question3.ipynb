{
 "cells": [
  {
   "cell_type": "markdown",
   "metadata": {
    "collapsed": false
   },
   "source": [
    "<h1>Question6: Relations</h1>"
   ]
  },
  {
   "cell_type": "code",
   "execution_count": 13,
   "metadata": {
    "collapsed": false
   },
   "outputs": [
    {
     "name": "stdout",
     "output_type": "stream",
     "text": [
      "51724158235372\n"
     ]
    }
   ],
   "source": [
    "def noEquivalenceRelations(a):\n",
    "    counter =0\n",
    "    for i in range(a+1):\n",
    "        counter =counter + stirling_number2(a,i)\n",
    "    return counter\n",
    "\n",
    "# n is your input number(number of elements in sets)\n",
    "n = 20\n",
    "print(noEquivalenceRelations(n))"
   ]
  }
 ],
 "metadata": {
  "kernelspec": {
   "display_name": "SageMath 8.1",
   "name": "sage-8.1"
  }
 },
 "nbformat": 4,
 "nbformat_minor": 0
}