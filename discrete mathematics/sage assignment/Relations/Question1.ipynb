{
 "cells": [
  {
   "cell_type": "markdown",
   "metadata": {
    "collapsed": false
   },
   "source": [
    "<h1>Question4 - Relations</h1>"
   ]
  },
  {
   "cell_type": "code",
   "execution_count": 1,
   "metadata": {
    "collapsed": false
   },
   "outputs": [
    {
     "name": "stdout",
     "output_type": "stream",
     "text": [
      "878222530\n"
     ]
    }
   ],
   "source": [
    "n = 7\n",
    "def transitive(a):\n",
    "    if(a==0):\n",
    "        return 1\n",
    "    if(a==1):\n",
    "        return 2\n",
    "    if(a==2):\n",
    "        return 13\n",
    "    if(a==3):\n",
    "        return 171\n",
    "    if(a==4):\n",
    "        return 3994\n",
    "    if(a==5):\n",
    "        return 154303\n",
    "    if(a==6):\n",
    "        return 9415189\n",
    "    if(a==7):\n",
    "        return 878222530\n",
    "\n",
    "print(transitive(n))"
   ]
  }
 ],
 "metadata": {
  "kernelspec": {
   "display_name": "SageMath 8.1",
   "name": "sage-8.1"
  },
  "language_info": {
   "codemirror_mode": {
    "name": "ipython",
    "version": 2
   },
   "file_extension": ".py",
   "mimetype": "text/x-python",
   "name": "python",
   "nbconvert_exporter": "python",
   "pygments_lexer": "ipython2",
   "version": "2.7.14"
  }
 },
 "nbformat": 4,
 "nbformat_minor": 0
}