{
 "cells": [
  {
   "cell_type": "markdown",
   "metadata": {
    "collapsed": false
   },
   "source": [
    "<h1>Question5 - relations</h1>"
   ]
  },
  {
   "cell_type": "code",
   "execution_count": 12,
   "metadata": {
    "collapsed": false
   },
   "outputs": [
    {
     "name": "stdout",
     "output_type": "stream",
     "text": [
      "[1 1 1]\n",
      "[0 1 1]\n",
      "[0 0 1]\n"
     ]
    }
   ],
   "source": [
    "def unionMatrices(a,b) :\n",
    "    n = M.nrows()\n",
    "    Answer = matrix(n)\n",
    "    for i in range(n) :\n",
    "        for j in range(n) : \n",
    "            if(a[i,j] == 1 or b[i,j] == 1) :\n",
    "                Answer[i,j] = 1\n",
    "    return Answer\n",
    "n = M.nrows()\n",
    "# please create the n*n matrix as M . \n",
    "M = matrix([[1,1,1],[0,1,1],[0,0,1]])\n",
    "A = M\n",
    "B = A\n",
    "for i in range(M.nrows() - 1) :\n",
    "    A = A * M\n",
    "    B = unionMatrices(A,B)\n",
    "print(B)\n"
   ]
  }
 ],
 "metadata": {
  "kernelspec": {
   "display_name": "SageMath 8.1",
   "name": "sage-8.1"
  },
  "language_info": {
   "codemirror_mode": {
    "name": "ipython",
    "version": 2
   },
   "file_extension": ".py",
   "mimetype": "text/x-python",
   "name": "python",
   "nbconvert_exporter": "python",
   "pygments_lexer": "ipython2",
   "version": "2.7.14"
  }
 },
 "nbformat": 4,
 "nbformat_minor": 0
}