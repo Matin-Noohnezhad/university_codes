{
 "cells": [
  {
   "cell_type": "markdown",
   "metadata": {
    "collapsed": false
   },
   "source": [
    "<h1>Problem1</h1>"
   ]
  },
  {
   "cell_type": "code",
   "execution_count": 6,
   "metadata": {
    "collapsed": false
   },
   "outputs": [
    {
     "name": "stdout",
     "output_type": "stream",
     "text": [
      "The probability of connected graph is: 0.545454545454545\n",
      "The probability of bipartite graph is: 0.636363636363636\n"
     ]
    }
   ],
   "source": [
    "#change number to 100 if you want it :)\n",
    "number = 4\n",
    "counter = 0\n",
    "counterConnected = 0\n",
    "counterBipartite = 0\n",
    "for g in graphs(number) : \n",
    "    counter = counter + 1\n",
    "    if(g.is_connected()) : \n",
    "        counterConnected = counterConnected  + 1\n",
    "    if(g.is_bipartite()) : \n",
    "        counterBipartite = counterBipartite  + 1\n",
    "print('The probability of connected graph is: '+ str(n(counterConnected/counter)))\n",
    "print('The probability of bipartite graph is: '+str(n(counterBipartite/counter)))\n",
    "\n"
   ]
  }
 ],
 "metadata": {
  "kernelspec": {
   "display_name": "SageMath 8.1",
   "name": "sage-8.1"
  },
  "language_info": {
   "codemirror_mode": {
    "name": "ipython",
    "version": 2
   },
   "file_extension": ".py",
   "mimetype": "text/x-python",
   "name": "python",
   "nbconvert_exporter": "python",
   "pygments_lexer": "ipython2",
   "version": "2.7.14"
  }
 },
 "nbformat": 4,
 "nbformat_minor": 0
}