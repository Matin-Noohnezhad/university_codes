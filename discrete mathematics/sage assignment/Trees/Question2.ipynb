{
 "cells": [
  {
   "cell_type": "markdown",
   "metadata": {
    "collapsed": false
   },
   "source": [
    "<h1>Trees: Computations and Explorations-Question4</h1>\n",
    "<p>after the see the results you can uncomment the another part to see the results this time by formula.</p>"
   ]
  },
  {
   "cell_type": "code",
   "execution_count": 11,
   "metadata": {
    "collapsed": false
   },
   "outputs": [
    {
     "name": "stdout",
     "output_type": "stream",
     "text": [
      "For k1 the number of different spanning trees is : \n",
      "1\n",
      "For k2 the number of different spanning trees is : \n",
      "1\n",
      "For k3 the number of different spanning trees is : \n",
      "3\n",
      "For k4 the number of different spanning trees is : \n",
      "16\n",
      "For k5 the number of different spanning trees is : \n",
      "125\n",
      "For k6 the number of different spanning trees is : \n",
      "1296\n"
     ]
    }
   ],
   "source": [
    "for i in range (6) : \n",
    "    j = i+1\n",
    "    g = graphs.CompleteGraph(j)\n",
    "    print(\"For k\" + str(j) + \" the number of different spanning trees is : \")\n",
    "    print(g.spanning_trees_count())\n",
    "# Formula : \n",
    "#h = -1\n",
    "#for i in range(6) : \n",
    "#    j = i + 1\n",
    "#    print(\"For k\" + str(j) + \" the number of different spanning trees is : \")\n",
    "#    print(j^h)\n",
    "#    h = h + 1"
   ]
  },
  {
   "cell_type": "code",
   "execution_count": 0,
   "metadata": {
    "collapsed": false
   },
   "outputs": [
   ],
   "source": [
   ]
  }
 ],
 "metadata": {
  "kernelspec": {
   "display_name": "SageMath 8.1",
   "name": "sage-8.1"
  },
  "language_info": {
   "codemirror_mode": {
    "name": "ipython",
    "version": 2
   },
   "file_extension": ".py",
   "mimetype": "text/x-python",
   "name": "python",
   "nbconvert_exporter": "python",
   "pygments_lexer": "ipython2",
   "version": "2.7.14"
  }
 },
 "nbformat": 4,
 "nbformat_minor": 0
}