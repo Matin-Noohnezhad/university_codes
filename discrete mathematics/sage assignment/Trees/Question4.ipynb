{
 "cells": [
  {
   "cell_type": "markdown",
   "metadata": {
    "collapsed": false
   },
   "source": [
    "<h1>Computations and Explorations - Question7 : Trees</h1>"
   ]
  },
  {
   "cell_type": "code",
   "execution_count": 2,
   "metadata": {
    "collapsed": false
   },
   "outputs": [
    {
     "data": {
      "text/plain": [
       "[('Isfahan', 'bandar', 802),\n",
       " ('Isfahan', 'qazvin', 621),\n",
       " ('bandar', 'shomal', 1235),\n",
       " ('hamedan', 'tabriz', 144),\n",
       " ('mashhad', 'qazvin', 946),\n",
       " ('qazvin', 'tabriz', 184),\n",
       " ('shiraz', 'shomal', 337),\n",
       " ('tabriz', 'tehran', 187)]"
      ]
     },
     "execution_count": 2,
     "metadata": {
     },
     "output_type": "execute_result"
    }
   ],
   "source": [
    "from sage.graphs.spanning_tree import kruskal\n",
    "G = Graph({\"shiraz\":{\"tehran\":2704, \"Isfahan\":1846, \"bandar\":1464, \"shomal\":337},\n",
    "\"tehran\":{\"Isfahan\":867, \"tabriz\":187, \"mashhad\":1258},\n",
    "\"Isfahan\":{\"hamedan\":849, \"tabriz\":740, \"qazvin\":621, \"bandar\":802},\n",
    "\"bandar\":{\"qazvin\":1391, \"mashhad\":1121, \"shomal\":1235},\n",
    "\"shomal\":{\"mashhad\":2342},\n",
    "\"hamedan\":{\"tabriz\":144},\n",
    "\"tabriz\":{\"mashhad\":1090, \"qazvin\":184},\n",
    "\"qazvin\":{\"mashhad\":946}})\n",
    "G.weighted(True)\n",
    "kruskal(G, check=True)"
   ]
  }
 ],
 "metadata": {
  "kernelspec": {
   "display_name": "SageMath 8.1",
   "name": "sage-8.1"
  },
  "language_info": {
   "codemirror_mode": {
    "name": "ipython",
    "version": 2
   },
   "file_extension": ".py",
   "mimetype": "text/x-python",
   "name": "python",
   "nbconvert_exporter": "python",
   "pygments_lexer": "ipython2",
   "version": "2.7.14"
  }
 },
 "nbformat": 4,
 "nbformat_minor": 0
}