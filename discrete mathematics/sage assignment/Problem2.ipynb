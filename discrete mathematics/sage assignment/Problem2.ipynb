{
 "cells": [
  {
   "cell_type": "markdown",
   "metadata": {
    "collapsed": false
   },
   "source": [
    "<h1>Problem2</h1>"
   ]
  },
  {
   "cell_type": "code",
   "execution_count": 4,
   "metadata": {
    "collapsed": false
   },
   "outputs": [
    {
     "name": "stdout",
     "output_type": "stream",
     "text": [
      "[1, 3, 6, 8, 11, 13, 16, 18, 21, 23, 35, 40, 45, 53, 58, 63, 66, 68, 73, 86, 96]\n"
     ]
    }
   ],
   "source": [
    "a = []\n",
    "for i in range(100):\n",
    "    n = i+1\n",
    "    counter = 0;\n",
    "    for j in range(len(a)):\n",
    "        if((n-a[j])!=1 and (n-a[j])!=4 and (n-a[j])!=9and (n-a[j])!=16and (n-a[j])!=25and (n-a[j])!=36and (n-a[j])!=49and (n-a[j])!=64and (n-a[j])!=81):\n",
    "            counter = counter +1\n",
    "        if(counter == len(a)):\n",
    "            a.append(n)\n",
    "    if(n==1):\n",
    "        a.append(n)\n",
    "print(a)"
   ]
  }
 ],
 "metadata": {
  "kernelspec": {
   "display_name": "SageMath 8.1",
   "name": "sage-8.1"
  },
  "language_info": {
   "codemirror_mode": {
    "name": "ipython",
    "version": 2
   },
   "file_extension": ".py",
   "mimetype": "text/x-python",
   "name": "python",
   "nbconvert_exporter": "python",
   "pygments_lexer": "ipython2",
   "version": "2.7.14"
  }
 },
 "nbformat": 4,
 "nbformat_minor": 0
}